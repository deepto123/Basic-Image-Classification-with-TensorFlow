{
  "cells": [
    {
      "cell_type": "markdown",
      "metadata": {
        "id": "view-in-github",
        "colab_type": "text"
      },
      "source": [
        "<a href=\"https://colab.research.google.com/github/deepto123/Basic-Image-Classification-with-TensorFlow./blob/main/01_Student_Notebook.ipynb\" target=\"_parent\"><img src=\"https://colab.research.google.com/assets/colab-badge.svg\" alt=\"Open In Colab\"/></a>"
      ]
    },
    {
      "cell_type": "markdown",
      "metadata": {
        "id": "qKk1Ib3dTPv8"
      },
      "source": [
        "![Rhyme](https://rhyme.com/assets/img/logo-dark.png)"
      ]
    },
    {
      "cell_type": "markdown",
      "metadata": {
        "id": "8MoqlD-rTPwA"
      },
      "source": [
        "# Task 1: Introduction\n",
        "\n",
        "Welcome to Basic Image Classification with TensorFlow.\n",
        "\n",
        "This graph describes the problem that we are trying to solve visually. We want to create and train a model that takes an image of a hand written digit as input and predicts the class of that digit, that is, it predicts the digit or it predicts the class of the input image.\n",
        "\n",
        "![Copy to Drive](https://drive.google.com/uc?id=11wOaLj4fiI6m665H5xmqrJyt3Qc_dD2E)\n"
      ]
    },
    {
      "cell_type": "markdown",
      "metadata": {
        "id": "HBysULR1TPwB"
      },
      "source": [
        "### Import TensorFlow"
      ]
    },
    {
      "cell_type": "code",
      "execution_count": null,
      "metadata": {
        "colab": {
          "base_uri": "https://localhost:8080/"
        },
        "id": "V09ouhooTPwB",
        "outputId": "20916c1c-1e5f-409c-cd9d-c9f3a798f873"
      },
      "outputs": [
        {
          "output_type": "stream",
          "name": "stdout",
          "text": [
            "Using TensorFlow version 2.8.2\n"
          ]
        }
      ],
      "source": [
        "import tensorflow as tf\n",
        "\n",
        "print('Using TensorFlow version', tf.__version__)"
      ]
    },
    {
      "cell_type": "markdown",
      "metadata": {
        "id": "UTNjIkjyTPwC"
      },
      "source": [
        "# Task 2: The Dataset\n",
        "### Import MNIST"
      ]
    },
    {
      "cell_type": "code",
      "execution_count": null,
      "metadata": {
        "id": "V8Obzmq2TPwD"
      },
      "outputs": [],
      "source": [
        "from tensorflow.keras.datasets import mnist\n",
        "(x_train,y_train),(x_test,y_test)=mnist.load_data()"
      ]
    },
    {
      "cell_type": "markdown",
      "metadata": {
        "id": "99UR37euTPwD"
      },
      "source": [
        "### Shapes of Imported Arrays"
      ]
    },
    {
      "cell_type": "code",
      "execution_count": null,
      "metadata": {
        "colab": {
          "base_uri": "https://localhost:8080/"
        },
        "id": "AhoENtF2TPwE",
        "outputId": "a26b43bb-ac33-4372-f2b0-2227696c4649"
      },
      "outputs": [
        {
          "output_type": "stream",
          "name": "stdout",
          "text": [
            "x-train shape: (60000, 28, 28)\n",
            "y_train shape: (60000,)\n",
            "x-test shape: (10000, 28, 28)\n",
            "y_test shape: (10000,)\n"
          ]
        }
      ],
      "source": [
        "print('x-train shape:',x_train.shape)\n",
        "print('y_train shape:',y_train.shape)\n",
        "print('x-test shape:',x_test.shape)\n",
        "print('y_test shape:',y_test.shape)"
      ]
    },
    {
      "cell_type": "markdown",
      "metadata": {
        "id": "sDX4qhbqTPwE"
      },
      "source": [
        "### Plot an Image Example"
      ]
    },
    {
      "cell_type": "code",
      "execution_count": null,
      "metadata": {
        "colab": {
          "base_uri": "https://localhost:8080/",
          "height": 773
        },
        "id": "QlzfFUbsTPwF",
        "outputId": "e095616b-89e9-42ec-eadb-43de8bdfb533"
      },
      "outputs": [
        {
          "output_type": "display_data",
          "data": {
            "text/plain": [
              "<Figure size 864x864 with 25 Axes>"
            ],
            "image/png": "[encoded data removed]"
          },
          "metadata": {}
        }
      ],
      "source": [
        "from matplotlib import pyplot as plt\n",
        "%matplotlib inline\n",
        "\n",
        "# visualizing first 25 images from our dataset\n",
        "\n",
        "plt.figure(figsize=(12,12))\n",
        "for i, img in enumerate(x_train[0:25]):\n",
        "    plt.subplot(5,5,i+1)\n",
        "    plt.xticks([])\n",
        "    plt.yticks([])\n",
        "    plt.grid(False)\n",
        "    plt.imshow(img,cmap='binary')\n",
        "    plt.suptitle(\"Handwritten digits\", fontsize=20)\n",
        "plt.show()\n"
      ]
    },
    {
      "cell_type": "markdown",
      "metadata": {
        "id": "pdvJpIeOTPwF"
      },
      "source": [
        "### Display Labels"
      ]
    },
    {
      "cell_type": "code",
      "execution_count": null,
      "metadata": {
        "colab": {
          "base_uri": "https://localhost:8080/"
        },
        "id": "LZgv1AIRTPwF",
        "outputId": "e105554b-5e13-49ac-fbfe-ee3bca3686f9"
      },
      "outputs": [
        {
          "output_type": "stream",
          "name": "stdout",
          "text": [
            "5 0 4 1 9 2 1 3 1 4 3 5 3 6 1 7 2 8 6 9 4 0 9 1 1 "
          ]
        }
      ],
      "source": [
        "for i in y_train[0:25]:\n",
        "  print(i, end=' ')"
      ]
    },
    {
      "cell_type": "code",
      "execution_count": null,
      "metadata": {
        "colab": {
          "base_uri": "https://localhost:8080/"
        },
        "id": "gif4qDx1TPwF",
        "outputId": "db7ff788-531a-4fb5-9b42-8010a2ca8bae"
      },
      "outputs": [
        {
          "output_type": "stream",
          "name": "stdout",
          "text": [
            "{0, 1, 2, 3, 4, 5, 6, 7, 8, 9}\n"
          ]
        }
      ],
      "source": [
        "print(set(y_train))"
      ]
    },
    {
      "cell_type": "markdown",
      "metadata": {
        "id": "sy1Qag-hTPwG"
      },
      "source": [
        "# Task 3: One Hot Encoding\n",
        "After this encoding, every label will be converted to a list with 10 elements and the element at index to the corresponding class will be set to 1, rest will be set to 0:\n",
        "\n",
        "| original label | one-hot encoded label |\n",
        "|------|------|\n",
        "| 5 | [0, 0, 0, 0, 0, 1, 0, 0, 0, 0] |\n",
        "| 7 | [0, 0, 0, 0, 0, 0, 0, 1, 0, 0] |\n",
        "| 1 | [0, 1, 0, 0, 0, 0, 0, 0, 0, 0] |\n",
        "\n",
        "### Encoding Labels"
      ]
    },
    {
      "cell_type": "code",
      "execution_count": null,
      "metadata": {
        "id": "by7jmye4TPwG"
      },
      "outputs": [],
      "source": [
        "from tensorflow.keras.utils import to_categorical\n",
        "\n",
        "y_train_encoded=to_categorical(y_train)\n",
        "y_test_encoded=to_categorical(y_test)\n"
      ]
    },
    {
      "cell_type": "markdown",
      "metadata": {
        "id": "Jl2HcFPVTPwG"
      },
      "source": [
        "### Validated Shapes"
      ]
    },
    {
      "cell_type": "code",
      "execution_count": null,
      "metadata": {
        "id": "rTpAJtSoTPwH",
        "colab": {
          "base_uri": "https://localhost:8080/"
        },
        "outputId": "c6f8a616-f3ee-4172-c0f9-fbba25b7c1cb"
      },
      "outputs": [
        {
          "output_type": "execute_result",
          "data": {
            "text/plain": [
              "(60000, 10)"
            ]
          },
          "metadata": {},
          "execution_count": 79
        }
      ],
      "source": [
        "y_train_encoded.shape"
      ]
    },
    {
      "cell_type": "code",
      "source": [
        "print('y_train_encoded_shape:',y_train.shape)\n",
        "print('y_test_encoded_shape:',y_test.shape)"
      ],
      "metadata": {
        "colab": {
          "base_uri": "https://localhost:8080/"
        },
        "id": "WC2bwrlUElyT",
        "outputId": "8013d5ff-ed9c-49c9-b1c2-5653677580cf"
      },
      "execution_count": null,
      "outputs": [
        {
          "output_type": "stream",
          "name": "stdout",
          "text": [
            "y_train_encoded_shape: (60000,)\n",
            "y_test_encoded_shape: (10000,)\n"
          ]
        }
      ]
    },
    {
      "cell_type": "markdown",
      "metadata": {
        "id": "xFyoGzx_TPwH"
      },
      "source": [
        "### Display Encoded Labels"
      ]
    },
    {
      "cell_type": "code",
      "execution_count": null,
      "metadata": {
        "id": "a5VYZGy0TPwH",
        "colab": {
          "base_uri": "https://localhost:8080/"
        },
        "outputId": "8183e2a2-69e3-464f-da36-e6589035ae34"
      },
      "outputs": [
        {
          "output_type": "execute_result",
          "data": {
            "text/plain": [
              "array([0., 0., 0., 0., 0., 1., 0., 0., 0., 0.], dtype=float32)"
            ]
          },
          "metadata": {},
          "execution_count": 67
        }
      ],
      "source": [
        "y_train_encoded[0]"
      ]
    },
    {
      "cell_type": "markdown",
      "metadata": {
        "id": "RcrKD0LHTPwH"
      },
      "source": [
        "# Task 4: Neural Networks\n",
        "\n",
        "### Linear Equations\n",
        "\n",
        "![Copy to Drive](https://drive.google.com/uc?id=1c4vKs7QWGQdhUtnu6yzeEjnbSuaGNbvK)\n",
        "\n",
        "The above graph simply represents the equation:\n",
        "\n",
        "\\begin{equation}\n",
        "y = w1 * x1 + w2 * x2 + w3 * x3 + b\n",
        "\\end{equation}\n",
        "\n",
        "Where the `w1, w2, w3` are called the weights and `b` is an intercept term called bias. The equation can also be *vectorised* like this:\n",
        "\n",
        "\\begin{equation}\n",
        "y = W . X + b\n",
        "\\end{equation}\n",
        "\n",
        "Where `X = [x1, x2, x3]` and `W = [w1, w2, w3].T`. The .T means *transpose*. This is because we want the dot product to give us the result we want i.e. `w1 * x1 + w2 * x2 + w3 * x3`. This gives us the vectorised version of our linear equation.\n",
        "\n",
        "A simple, linear approach to solving hand-written image classification problem - could it work?\n",
        "\n",
        "\n",
        "![Copy to Drive](https://drive.google.com/uc?id=1fsrqlkIEnsOwOtnHDME2MtdXbHTgCUgA)\n",
        "\n",
        "### Neural Networks\n",
        "\n",
        "![Copy to Drive](https://drive.google.com/uc?id=1SvJQ7-gP8A8NhzuKm-HMoT5dLWUCwFg5)\n",
        "\n",
        "This model is much more likely to solve the problem as it can learn more complex function mapping for the inputs and outputs in our dataset."
      ]
    },
    {
      "cell_type": "markdown",
      "metadata": {
        "id": "cRjBXvqETPwI"
      },
      "source": [
        "# Task 5: Preprocessing the Examples\n",
        "\n",
        "### Unrolling N-dimensional Arrays to Vectors"
      ]
    },
    {
      "cell_type": "code",
      "execution_count": null,
      "metadata": {
        "id": "iq3R1V2vTPwI",
        "colab": {
          "base_uri": "https://localhost:8080/"
        },
        "outputId": "25e9bc05-8283-444a-9086-47962b770587"
      },
      "outputs": [
        {
          "output_type": "stream",
          "name": "stdout",
          "text": [
            "x_train_reshaped: (60000, 784)\n",
            "x_test_reshaped: (10000, 784)\n"
          ]
        }
      ],
      "source": [
        "import numpy as np\n",
        "\n",
        "x_train_reshaped=np.reshape(x_train,(60000,784))\n",
        "x_test_reshaped=np.reshape(x_test,(10000,784))\n",
        "\n",
        "print('x_train_reshaped:',x_train_reshaped.shape)\n",
        "print('x_test_reshaped:',x_test_reshaped.shape)"
      ]
    },
    {
      "cell_type": "markdown",
      "metadata": {
        "id": "vvcB2o-_TPwI"
      },
      "source": [
        "### Display Pixel Values"
      ]
    },
    {
      "cell_type": "code",
      "execution_count": null,
      "metadata": {
        "id": "vcaa7vJ0TPwI",
        "colab": {
          "base_uri": "https://localhost:8080/"
        },
        "outputId": "7c869e3e-b730-4307-b458-fbc498a2abb0"
      },
      "outputs": [
        {
          "output_type": "stream",
          "name": "stdout",
          "text": [
            "[  0   0   0   0   0   0   0   0   0   0   0   0   0   0   0   0   0   0\n",
            "   0   0   0   0   0   0   0   0   0   0   0   0   0   0   0   0   0   0\n",
            "   0   0   0   0   0   0   0   0   0   0   0   0   0   0   0   0   0   0\n",
            "   0   0   0   0   0   0   0   0   0   0   0   0   0   0   0   0   0   0\n",
            "   0   0   0   0   0   0   0   0   0   0   0   0   0   0   0   0   0   0\n",
            "   0   0   0   0   0   0   0   0   0   0   0   0   0   0   0   0   0   0\n",
            "   0   0   0   0   0   0   0   0   0   0   0   0   0   0   0   0   0   0\n",
            "   0   0   0   0   0   0   0   0   0   0   0   0   0   0   0   0   0   0\n",
            "   0   0   0   0   0   0   0   0   3  18  18  18 126 136 175  26 166 255\n",
            " 247 127   0   0   0   0   0   0   0   0   0   0   0   0  30  36  94 154\n",
            " 170 253 253 253 253 253 225 172 253 242 195  64   0   0   0   0   0   0\n",
            "   0   0   0   0   0  49 238 253 253 253 253 253 253 253 253 251  93  82\n",
            "  82  56  39   0   0   0   0   0   0   0   0   0   0   0   0  18 219 253\n",
            " 253 253 253 253 198 182 247 241   0   0   0   0   0   0   0   0   0   0\n",
            "   0   0   0   0   0   0   0   0  80 156 107 253 253 205  11   0  43 154\n",
            "   0   0   0   0   0   0   0   0   0   0   0   0   0   0   0   0   0   0\n",
            "   0  14   1 154 253  90   0   0   0   0   0   0   0   0   0   0   0   0\n",
            "   0   0   0   0   0   0   0   0   0   0   0   0   0 139 253 190   2   0\n",
            "   0   0   0   0   0   0   0   0   0   0   0   0   0   0   0   0   0   0\n",
            "   0   0   0   0   0  11 190 253  70   0   0   0   0   0   0   0   0   0\n",
            "   0   0   0   0   0   0   0   0   0   0   0   0   0   0   0   0  35 241\n",
            " 225 160 108   1   0   0   0   0   0   0   0   0   0   0   0   0   0   0\n",
            "   0   0   0   0   0   0   0   0   0  81 240 253 253 119  25   0   0   0\n",
            "   0   0   0   0   0   0   0   0   0   0   0   0   0   0   0   0   0   0\n",
            "   0   0  45 186 253 253 150  27   0   0   0   0   0   0   0   0   0   0\n",
            "   0   0   0   0   0   0   0   0   0   0   0   0   0  16  93 252 253 187\n",
            "   0   0   0   0   0   0   0   0   0   0   0   0   0   0   0   0   0   0\n",
            "   0   0   0   0   0   0   0 249 253 249  64   0   0   0   0   0   0   0\n",
            "   0   0   0   0   0   0   0   0   0   0   0   0   0   0  46 130 183 253\n",
            " 253 207   2   0   0   0   0   0   0   0   0   0   0   0   0   0   0   0\n",
            "   0   0   0   0  39 148 229 253 253 253 250 182   0   0   0   0   0   0\n",
            "   0   0   0   0   0   0   0   0   0   0   0   0  24 114 221 253 253 253\n",
            " 253 201  78   0   0   0   0   0   0   0   0   0   0   0   0   0   0   0\n",
            "   0   0  23  66 213 253 253 253 253 198  81   2   0   0   0   0   0   0\n",
            "   0   0   0   0   0   0   0   0   0   0  18 171 219 253 253 253 253 195\n",
            "  80   9   0   0   0   0   0   0   0   0   0   0   0   0   0   0   0   0\n",
            "  55 172 226 253 253 253 253 244 133  11   0   0   0   0   0   0   0   0\n",
            "   0   0   0   0   0   0   0   0   0   0 136 253 253 253 212 135 132  16\n",
            "   0   0   0   0   0   0   0   0   0   0   0   0   0   0   0   0   0   0\n",
            "   0   0   0   0   0   0   0   0   0   0   0   0   0   0   0   0   0   0\n",
            "   0   0   0   0   0   0   0   0   0   0   0   0   0   0   0   0   0   0\n",
            "   0   0   0   0   0   0   0   0   0   0   0   0   0   0   0   0   0   0\n",
            "   0   0   0   0   0   0   0   0   0   0   0   0   0   0   0   0   0   0\n",
            "   0   0   0   0   0   0   0   0   0   0]\n"
          ]
        }
      ],
      "source": [
        "print(x_train_reshaped[0])"
      ]
    },
    {
      "cell_type": "markdown",
      "metadata": {
        "id": "VvCY3TZKTPwI"
      },
      "source": [
        "### Data Normalization"
      ]
    },
    {
      "cell_type": "code",
      "execution_count": null,
      "metadata": {
        "id": "ie6IC_RSTPwJ"
      },
      "outputs": [],
      "source": [
        "x_train_mean=np.mean(x_train_reshaped)\n",
        "x_train_std=np.std(x_train_reshaped)\n",
        "\n",
        "epsilon=1e-10\n",
        "\n",
        "x_train_norm=(x_train_reshaped-x_train_mean)/(x_train_std+epsilon)\n",
        "x_test_norm=(x_test_reshaped-x_train_mean)/(x_train_std+epsilon)\n",
        "\n",
        "# when the standard deviation becomes too small,the normalised value can go very high and out of bounds, so we add epsilon as a little compensation so\n",
        "# that normalised values dont go out of bounds. Also carefully note that epsilon is nor very large to actually affect the real normalied values"
      ]
    },
    {
      "cell_type": "markdown",
      "metadata": {
        "id": "K7UBEsmKTPwJ"
      },
      "source": [
        "### Display Normalized Pixel Values"
      ]
    },
    {
      "cell_type": "code",
      "execution_count": null,
      "metadata": {
        "id": "lHNzBI0MTPwJ",
        "colab": {
          "base_uri": "https://localhost:8080/"
        },
        "outputId": "a2c6da79-24be-4209-bfca-0ae9a7f64c8c"
      },
      "outputs": [
        {
          "output_type": "stream",
          "name": "stdout",
          "text": [
            "[-0.42407389 -0.42407389 -0.42407389 -0.42407389 -0.42407389 -0.42407389\n",
            " -0.42407389 -0.42407389 -0.42407389 -0.42407389 -0.42407389 -0.42407389\n",
            " -0.42407389 -0.42407389 -0.42407389 -0.42407389 -0.42407389 -0.42407389\n",
            " -0.42407389 -0.42407389 -0.42407389 -0.42407389 -0.42407389 -0.42407389\n",
            " -0.42407389 -0.42407389 -0.42407389 -0.42407389 -0.42407389 -0.42407389\n",
            " -0.42407389 -0.42407389 -0.42407389 -0.42407389 -0.42407389 -0.42407389\n",
            " -0.42407389 -0.42407389 -0.42407389 -0.42407389 -0.42407389 -0.42407389\n",
            " -0.42407389 -0.42407389 -0.42407389 -0.42407389 -0.42407389 -0.42407389\n",
            " -0.42407389 -0.42407389 -0.42407389 -0.42407389 -0.42407389 -0.42407389\n",
            " -0.42407389 -0.42407389 -0.42407389 -0.42407389 -0.42407389 -0.42407389\n",
            " -0.42407389 -0.42407389 -0.42407389 -0.42407389 -0.42407389 -0.42407389\n",
            " -0.42407389 -0.42407389 -0.42407389 -0.42407389 -0.42407389 -0.42407389\n",
            " -0.42407389 -0.42407389 -0.42407389 -0.42407389 -0.42407389 -0.42407389\n",
            " -0.42407389 -0.42407389 -0.42407389 -0.42407389 -0.42407389 -0.42407389\n",
            " -0.42407389 -0.42407389 -0.42407389 -0.42407389 -0.42407389 -0.42407389\n",
            " -0.42407389 -0.42407389 -0.42407389 -0.42407389 -0.42407389 -0.42407389\n",
            " -0.42407389 -0.42407389 -0.42407389 -0.42407389 -0.42407389 -0.42407389\n",
            " -0.42407389 -0.42407389 -0.42407389 -0.42407389 -0.42407389 -0.42407389\n",
            " -0.42407389 -0.42407389 -0.42407389 -0.42407389 -0.42407389 -0.42407389\n",
            " -0.42407389 -0.42407389 -0.42407389 -0.42407389 -0.42407389 -0.42407389\n",
            " -0.42407389 -0.42407389 -0.42407389 -0.42407389 -0.42407389 -0.42407389\n",
            " -0.42407389 -0.42407389 -0.42407389 -0.42407389 -0.42407389 -0.42407389\n",
            " -0.42407389 -0.42407389 -0.42407389 -0.42407389 -0.42407389 -0.42407389\n",
            " -0.42407389 -0.42407389 -0.42407389 -0.42407389 -0.42407389 -0.42407389\n",
            " -0.42407389 -0.42407389 -0.42407389 -0.42407389 -0.42407389 -0.42407389\n",
            " -0.42407389 -0.42407389 -0.38589016 -0.1949715  -0.1949715  -0.1949715\n",
            "  1.17964286  1.30692197  1.80331049 -0.09314822  1.68875929  2.82154335\n",
            "  2.71972006  1.19237077 -0.42407389 -0.42407389 -0.42407389 -0.42407389\n",
            " -0.42407389 -0.42407389 -0.42407389 -0.42407389 -0.42407389 -0.42407389\n",
            " -0.42407389 -0.42407389 -0.04223657  0.03413089  0.77234972  1.53602436\n",
            "  1.73967093  2.79608752  2.79608752  2.79608752  2.79608752  2.79608752\n",
            "  2.43970602  1.76512675  2.79608752  2.65608051  2.0578687   0.39051239\n",
            " -0.42407389 -0.42407389 -0.42407389 -0.42407389 -0.42407389 -0.42407389\n",
            " -0.42407389 -0.42407389 -0.42407389 -0.42407389 -0.42407389  0.19959373\n",
            "  2.60516886  2.79608752  2.79608752  2.79608752  2.79608752  2.79608752\n",
            "  2.79608752  2.79608752  2.79608752  2.7706317   0.7596218   0.61961479\n",
            "  0.61961479  0.28868911  0.07231462 -0.42407389 -0.42407389 -0.42407389\n",
            " -0.42407389 -0.42407389 -0.42407389 -0.42407389 -0.42407389 -0.42407389\n",
            " -0.42407389 -0.42407389 -0.42407389 -0.1949715   2.36333856  2.79608752\n",
            "  2.79608752  2.79608752  2.79608752  2.79608752  2.09605243  1.89240586\n",
            "  2.71972006  2.6433526  -0.42407389 -0.42407389 -0.42407389 -0.42407389\n",
            " -0.42407389 -0.42407389 -0.42407389 -0.42407389 -0.42407389 -0.42407389\n",
            " -0.42407389 -0.42407389 -0.42407389 -0.42407389 -0.42407389 -0.42407389\n",
            " -0.42407389 -0.42407389  0.59415897  1.56148018  0.93781256  2.79608752\n",
            "  2.79608752  2.18514781 -0.28406688 -0.42407389  0.12322627  1.53602436\n",
            " -0.42407389 -0.42407389 -0.42407389 -0.42407389 -0.42407389 -0.42407389\n",
            " -0.42407389 -0.42407389 -0.42407389 -0.42407389 -0.42407389 -0.42407389\n",
            " -0.42407389 -0.42407389 -0.42407389 -0.42407389 -0.42407389 -0.42407389\n",
            " -0.42407389 -0.24588314 -0.41134598  1.53602436  2.79608752  0.72143807\n",
            " -0.42407389 -0.42407389 -0.42407389 -0.42407389 -0.42407389 -0.42407389\n",
            " -0.42407389 -0.42407389 -0.42407389 -0.42407389 -0.42407389 -0.42407389\n",
            " -0.42407389 -0.42407389 -0.42407389 -0.42407389 -0.42407389 -0.42407389\n",
            " -0.42407389 -0.42407389 -0.42407389 -0.42407389 -0.42407389 -0.42407389\n",
            " -0.42407389  1.3451057   2.79608752  1.99422915 -0.39861807 -0.42407389\n",
            " -0.42407389 -0.42407389 -0.42407389 -0.42407389 -0.42407389 -0.42407389\n",
            " -0.42407389 -0.42407389 -0.42407389 -0.42407389 -0.42407389 -0.42407389\n",
            " -0.42407389 -0.42407389 -0.42407389 -0.42407389 -0.42407389 -0.42407389\n",
            " -0.42407389 -0.42407389 -0.42407389 -0.42407389 -0.42407389 -0.28406688\n",
            "  1.99422915  2.79608752  0.46687986 -0.42407389 -0.42407389 -0.42407389\n",
            " -0.42407389 -0.42407389 -0.42407389 -0.42407389 -0.42407389 -0.42407389\n",
            " -0.42407389 -0.42407389 -0.42407389 -0.42407389 -0.42407389 -0.42407389\n",
            " -0.42407389 -0.42407389 -0.42407389 -0.42407389 -0.42407389 -0.42407389\n",
            " -0.42407389 -0.42407389 -0.42407389 -0.42407389  0.02140298  2.6433526\n",
            "  2.43970602  1.61239182  0.95054047 -0.41134598 -0.42407389 -0.42407389\n",
            " -0.42407389 -0.42407389 -0.42407389 -0.42407389 -0.42407389 -0.42407389\n",
            " -0.42407389 -0.42407389 -0.42407389 -0.42407389 -0.42407389 -0.42407389\n",
            " -0.42407389 -0.42407389 -0.42407389 -0.42407389 -0.42407389 -0.42407389\n",
            " -0.42407389 -0.42407389 -0.42407389  0.60688688  2.63062468  2.79608752\n",
            "  2.79608752  1.09054748 -0.10587613 -0.42407389 -0.42407389 -0.42407389\n",
            " -0.42407389 -0.42407389 -0.42407389 -0.42407389 -0.42407389 -0.42407389\n",
            " -0.42407389 -0.42407389 -0.42407389 -0.42407389 -0.42407389 -0.42407389\n",
            " -0.42407389 -0.42407389 -0.42407389 -0.42407389 -0.42407389 -0.42407389\n",
            " -0.42407389 -0.42407389  0.14868209  1.9433175   2.79608752  2.79608752\n",
            "  1.48511272 -0.0804203  -0.42407389 -0.42407389 -0.42407389 -0.42407389\n",
            " -0.42407389 -0.42407389 -0.42407389 -0.42407389 -0.42407389 -0.42407389\n",
            " -0.42407389 -0.42407389 -0.42407389 -0.42407389 -0.42407389 -0.42407389\n",
            " -0.42407389 -0.42407389 -0.42407389 -0.42407389 -0.42407389 -0.42407389\n",
            " -0.42407389 -0.22042732  0.7596218   2.78335961  2.79608752  1.95604541\n",
            " -0.42407389 -0.42407389 -0.42407389 -0.42407389 -0.42407389 -0.42407389\n",
            " -0.42407389 -0.42407389 -0.42407389 -0.42407389 -0.42407389 -0.42407389\n",
            " -0.42407389 -0.42407389 -0.42407389 -0.42407389 -0.42407389 -0.42407389\n",
            " -0.42407389 -0.42407389 -0.42407389 -0.42407389 -0.42407389 -0.42407389\n",
            " -0.42407389  2.74517588  2.79608752  2.74517588  0.39051239 -0.42407389\n",
            " -0.42407389 -0.42407389 -0.42407389 -0.42407389 -0.42407389 -0.42407389\n",
            " -0.42407389 -0.42407389 -0.42407389 -0.42407389 -0.42407389 -0.42407389\n",
            " -0.42407389 -0.42407389 -0.42407389 -0.42407389 -0.42407389 -0.42407389\n",
            " -0.42407389 -0.42407389  0.16141     1.2305545   1.90513377  2.79608752\n",
            "  2.79608752  2.21060363 -0.39861807 -0.42407389 -0.42407389 -0.42407389\n",
            " -0.42407389 -0.42407389 -0.42407389 -0.42407389 -0.42407389 -0.42407389\n",
            " -0.42407389 -0.42407389 -0.42407389 -0.42407389 -0.42407389 -0.42407389\n",
            " -0.42407389 -0.42407389 -0.42407389 -0.42407389  0.07231462  1.4596569\n",
            "  2.49061767  2.79608752  2.79608752  2.79608752  2.75790379  1.89240586\n",
            " -0.42407389 -0.42407389 -0.42407389 -0.42407389 -0.42407389 -0.42407389\n",
            " -0.42407389 -0.42407389 -0.42407389 -0.42407389 -0.42407389 -0.42407389\n",
            " -0.42407389 -0.42407389 -0.42407389 -0.42407389 -0.42407389 -0.42407389\n",
            " -0.11860404  1.02690793  2.38879438  2.79608752  2.79608752  2.79608752\n",
            "  2.79608752  2.13423617  0.56870314 -0.42407389 -0.42407389 -0.42407389\n",
            " -0.42407389 -0.42407389 -0.42407389 -0.42407389 -0.42407389 -0.42407389\n",
            " -0.42407389 -0.42407389 -0.42407389 -0.42407389 -0.42407389 -0.42407389\n",
            " -0.42407389 -0.42407389 -0.13133195  0.41596821  2.28697109  2.79608752\n",
            "  2.79608752  2.79608752  2.79608752  2.09605243  0.60688688 -0.39861807\n",
            " -0.42407389 -0.42407389 -0.42407389 -0.42407389 -0.42407389 -0.42407389\n",
            " -0.42407389 -0.42407389 -0.42407389 -0.42407389 -0.42407389 -0.42407389\n",
            " -0.42407389 -0.42407389 -0.42407389 -0.42407389 -0.1949715   1.75239884\n",
            "  2.36333856  2.79608752  2.79608752  2.79608752  2.79608752  2.0578687\n",
            "  0.59415897 -0.3095227  -0.42407389 -0.42407389 -0.42407389 -0.42407389\n",
            " -0.42407389 -0.42407389 -0.42407389 -0.42407389 -0.42407389 -0.42407389\n",
            " -0.42407389 -0.42407389 -0.42407389 -0.42407389 -0.42407389 -0.42407389\n",
            "  0.2759612   1.76512675  2.45243393  2.79608752  2.79608752  2.79608752\n",
            "  2.79608752  2.68153633  1.26873823 -0.28406688 -0.42407389 -0.42407389\n",
            " -0.42407389 -0.42407389 -0.42407389 -0.42407389 -0.42407389 -0.42407389\n",
            " -0.42407389 -0.42407389 -0.42407389 -0.42407389 -0.42407389 -0.42407389\n",
            " -0.42407389 -0.42407389 -0.42407389 -0.42407389  1.30692197  2.79608752\n",
            "  2.79608752  2.79608752  2.27424318  1.29419406  1.25601032 -0.22042732\n",
            " -0.42407389 -0.42407389 -0.42407389 -0.42407389 -0.42407389 -0.42407389\n",
            " -0.42407389 -0.42407389 -0.42407389 -0.42407389 -0.42407389 -0.42407389\n",
            " -0.42407389 -0.42407389 -0.42407389 -0.42407389 -0.42407389 -0.42407389\n",
            " -0.42407389 -0.42407389 -0.42407389 -0.42407389 -0.42407389 -0.42407389\n",
            " -0.42407389 -0.42407389 -0.42407389 -0.42407389 -0.42407389 -0.42407389\n",
            " -0.42407389 -0.42407389 -0.42407389 -0.42407389 -0.42407389 -0.42407389\n",
            " -0.42407389 -0.42407389 -0.42407389 -0.42407389 -0.42407389 -0.42407389\n",
            " -0.42407389 -0.42407389 -0.42407389 -0.42407389 -0.42407389 -0.42407389\n",
            " -0.42407389 -0.42407389 -0.42407389 -0.42407389 -0.42407389 -0.42407389\n",
            " -0.42407389 -0.42407389 -0.42407389 -0.42407389 -0.42407389 -0.42407389\n",
            " -0.42407389 -0.42407389 -0.42407389 -0.42407389 -0.42407389 -0.42407389\n",
            " -0.42407389 -0.42407389 -0.42407389 -0.42407389 -0.42407389 -0.42407389\n",
            " -0.42407389 -0.42407389 -0.42407389 -0.42407389 -0.42407389 -0.42407389\n",
            " -0.42407389 -0.42407389 -0.42407389 -0.42407389 -0.42407389 -0.42407389\n",
            " -0.42407389 -0.42407389 -0.42407389 -0.42407389 -0.42407389 -0.42407389\n",
            " -0.42407389 -0.42407389 -0.42407389 -0.42407389 -0.42407389 -0.42407389\n",
            " -0.42407389 -0.42407389 -0.42407389 -0.42407389]\n"
          ]
        }
      ],
      "source": [
        "print(x_train_norm[0])"
      ]
    },
    {
      "cell_type": "code",
      "source": [
        "print(set(x_train_norm[0]))"
      ],
      "metadata": {
        "colab": {
          "base_uri": "https://localhost:8080/"
        },
        "id": "wZ0ptXFxh5n_",
        "outputId": "96fa0297-1da8-4375-b799-f03c858dd232"
      },
      "execution_count": null,
      "outputs": [
        {
          "output_type": "stream",
          "name": "stdout",
          "text": [
            "{-0.38589016215482896, 1.306921966983251, 1.17964285952926, 1.803310486053816, 1.6887592893452241, 2.8215433456857437, 2.719720059722551, 1.1923707702746593, 1.7396709323268205, 2.057868700961798, 2.3633385588513764, 2.096052433197995, 1.7651267538176187, 2.7960875241949457, 2.7451758812133495, 2.45243393406917, 0.02140298169794222, -0.22042732246464067, 1.2305545025108566, 0.2759611966059242, 2.210603629906587, 2.6560805059955555, 2.6051688630139593, -0.4240738943910262, 0.4668798577869107, 0.1486820891519332, 0.3905123933145161, 1.0905474843114664, -0.09314821501064967, 1.4851127174188385, 2.7579037919587486, 1.5360243604004349, 0.07231462467953861, -0.13133194724684696, 1.294194056237852, 0.03413089244334132, 1.3451056992194483, 2.274243183633583, -0.24588314395543887, 0.772349715676489, 0.75962180493109, 0.7214380726948927, 0.1995937321335296, -0.41134598364562713, 0.5687031437501034, 0.5941589652409017, 0.9378125553666773, 0.9505404661120763, 0.6068868759863008, 0.4159682148053143, -0.042236572029053274, 2.7706317027041476, 2.1342361654341926, 0.12322626766113501, -0.08042030426525057, 0.16140999989733232, 1.8924058612716097, 1.2560103240016547, 2.185147808415789, 0.6196147867316999, 1.943317504253206, -0.11860403650144787, -0.30952269768243434, 1.9942291472348024, -0.2840668761916362, 2.6306246845047574, 2.286971094378982, -0.19497150097384247, -0.39861807290022805, 0.2886891073513233, 1.7523988430722195, 2.3887943803421745, 2.681536327486354, 1.4596568959280403, 2.439706023323771, 2.7833596134495466, 2.490617666305367, -0.10587612575604877, 1.5614801818912332, 1.9051337720170087, 1.6123918248728295, 1.268738234747054, 1.9560454149986053, 2.6433525952501564, 1.026907930584471}\n"
          ]
        }
      ]
    },
    {
      "cell_type": "markdown",
      "metadata": {
        "id": "opRE6sP1TPwJ"
      },
      "source": [
        "# Task 6: Creating a Model\n",
        "### Creating the Model"
      ]
    },
    {
      "cell_type": "code",
      "execution_count": null,
      "metadata": {
        "id": "1K9i7M3zTPwJ"
      },
      "outputs": [],
      "source": [
        "from tensorflow.keras.models import Sequential\n",
        "from tensorflow.keras.layers import Dense\n",
        "\n",
        "#for sequential models we dont need an input layer\n",
        "#we have 128 hidden units in our dense layers\n",
        "#'relu' is a simple linear activation function when input values are +ve and 0 when values are negative...'softmax' gives probabiistic output\n",
        "model=Sequential([\n",
        "                  Dense(128,activation='relu',input_shape=(784,)),\n",
        "                  Dense(128,activation='relu'),\n",
        "                  Dense(10,activation='softmax')\n",
        "])"
      ]
    },
    {
      "cell_type": "markdown",
      "metadata": {
        "id": "olwYeabPTPwJ"
      },
      "source": [
        "### Activation Functions\n",
        "\n",
        "The first step in the node is the linear sum of the inputs:\n",
        "\\begin{equation}\n",
        "Z = W . X + b\n",
        "\\end{equation}\n",
        "\n",
        "The second step in the node is the activation function output:\n",
        "\n",
        "\\begin{equation}\n",
        "A = f(Z)\n",
        "\\end{equation}\n",
        "\n",
        "Graphical representation of a node where the two operations are performed:\n",
        "\n",
        "![image.png](data:image/png;base64,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)\n",
        "\n",
        "### Compiling the Model"
      ]
    },
    {
      "cell_type": "code",
      "execution_count": null,
      "metadata": {
        "id": "reXCYZMdTPwJ",
        "colab": {
          "base_uri": "https://localhost:8080/"
        },
        "outputId": "f6b37df7-70f3-4953-8063-947b7aaaca69"
      },
      "outputs": [
        {
          "output_type": "stream",
          "name": "stdout",
          "text": [
            "Model: \"sequential_1\"\n",
            "_________________________________________________________________\n",
            " Layer (type)                Output Shape              Param #   \n",
            "=================================================================\n",
            " dense_3 (Dense)             (None, 128)               100480    \n",
            "                                                                 \n",
            " dense_4 (Dense)             (None, 128)               16512     \n",
            "                                                                 \n",
            " dense_5 (Dense)             (None, 10)                1290      \n",
            "                                                                 \n",
            "=================================================================\n",
            "Total params: 118,282\n",
            "Trainable params: 118,282\n",
            "Non-trainable params: 0\n",
            "_________________________________________________________________\n"
          ]
        }
      ],
      "source": [
        "model.compile(\n",
        "    optimizer='sgd', #stochastic gradient descent\n",
        "    loss='categorical_crossentropy',\n",
        "    metrics=['accuracy']\n",
        ")\n",
        "\n",
        "model.summary()\n",
        "\n",
        "#no of parameters of each model=(hidden input nodes)*(outputs of previous layer)+no of biases...for ex in dense=128*784+128....in dense1=128*128+128...in dense2=10*128+10"
      ]
    },
    {
      "cell_type": "markdown",
      "metadata": {
        "id": "LSoSFpXATPwK"
      },
      "source": [
        "# Task 7: Training the Model\n",
        "\n",
        "### Training the Model"
      ]
    },
    {
      "cell_type": "code",
      "execution_count": null,
      "metadata": {
        "id": "kZzfjqL-TPwK",
        "colab": {
          "base_uri": "https://localhost:8080/"
        },
        "outputId": "b6c0ef0a-a0a6-44a4-ae55-1ce7e93072a3"
      },
      "outputs": [
        {
          "output_type": "stream",
          "name": "stdout",
          "text": [
            "Epoch 1/5\n",
            "1875/1875 [==============================] - 5s 3ms/step - loss: 0.3675 - accuracy: 0.8930\n",
            "Epoch 2/5\n",
            "1875/1875 [==============================] - 5s 3ms/step - loss: 0.1817 - accuracy: 0.9467\n",
            "Epoch 3/5\n",
            "1875/1875 [==============================] - 5s 3ms/step - loss: 0.1366 - accuracy: 0.9602\n",
            "Epoch 4/5\n",
            "1875/1875 [==============================] - 5s 3ms/step - loss: 0.1116 - accuracy: 0.9679\n",
            "Epoch 5/5\n",
            "1875/1875 [==============================] - 5s 2ms/step - loss: 0.0936 - accuracy: 0.9730\n"
          ]
        },
        {
          "output_type": "execute_result",
          "data": {
            "text/plain": [
              "<keras.callbacks.History at 0x7f93e999bc10>"
            ]
          },
          "metadata": {},
          "execution_count": 75
        }
      ],
      "source": [
        "model.fit(x_train_norm,y_train_encoded,epochs=5)"
      ]
    },
    {
      "cell_type": "markdown",
      "metadata": {
        "id": "bROgD_nYTPwK"
      },
      "source": [
        "### Evaluating the Model"
      ]
    },
    {
      "cell_type": "code",
      "execution_count": null,
      "metadata": {
        "id": "hA_1di7pTPwK",
        "colab": {
          "base_uri": "https://localhost:8080/"
        },
        "outputId": "ac2d00a7-ff2d-42a3-d6ea-d22ca7a35d0d"
      },
      "outputs": [
        {
          "output_type": "stream",
          "name": "stdout",
          "text": [
            "313/313 [==============================] - 1s 2ms/step - loss: 0.0996 - accuracy: 0.9695\n",
            "Test set accuracy: 96.95000052452087\n"
          ]
        }
      ],
      "source": [
        "_,accuracy=model.evaluate(x_test_norm,y_test_encoded)\n",
        "\n",
        "print('Test set accuracy:',accuracy*100)"
      ]
    },
    {
      "cell_type": "markdown",
      "metadata": {
        "id": "oCnxPEmYTPwK"
      },
      "source": [
        "# Task 8: Predictions\n",
        "\n",
        "### Predictions on Test Set"
      ]
    },
    {
      "cell_type": "code",
      "execution_count": null,
      "metadata": {
        "id": "gZ3xv59NTPwK",
        "colab": {
          "base_uri": "https://localhost:8080/"
        },
        "outputId": "f2e0c70c-13d4-424c-fc2b-fcba9a061b2e"
      },
      "outputs": [
        {
          "output_type": "stream",
          "name": "stdout",
          "text": [
            "Shape of predicted: (10000, 10)\n"
          ]
        }
      ],
      "source": [
        "preds=model.predict(x_test_norm)\n",
        "\n",
        "print(\"Shape of predicted:\",preds.shape)"
      ]
    },
    {
      "cell_type": "markdown",
      "metadata": {
        "id": "aIWshhkRTPwL"
      },
      "source": [
        "### Plotting the Results"
      ]
    },
    {
      "cell_type": "code",
      "execution_count": null,
      "metadata": {
        "id": "pBaS_W2bTPwL",
        "colab": {
          "base_uri": "https://localhost:8080/",
          "height": 697
        },
        "outputId": "8876afcf-b176-4a20-b405-542daa1ccb3e"
      },
      "outputs": [
        {
          "output_type": "display_data",
          "data": {
            "text/plain": [
              "<Figure size 864x864 with 25 Axes>"
            ],
            "image/png": "[encoded data removed]"
          },
          "metadata": {}
        }
      ],
      "source": [
        "plt.figure(figsize=(12,12))\n",
        "\n",
        "start_index = 0\n",
        "\n",
        "for i in range(25):\n",
        "    plt.subplot(5,5,i+1)\n",
        "    plt.grid(False)\n",
        "    plt.xticks([])\n",
        "    plt.yticks([])\n",
        "    \n",
        "    pred = np.argmax(preds[start_index+i])\n",
        "    gt = y_test[start_index+i]\n",
        "    \n",
        "    col='g'\n",
        "    if pred != gt:\n",
        "        col='r'\n",
        "    \n",
        "    plt.xlabel('i={} , pred={} , gt={}'.format(start_index+i , pred , gt),color = col)\n",
        "    plt.imshow(x_test[start_index+i], cmap='binary')\n",
        "plt.show()   \n",
        "  "
      ]
    },
    {
      "cell_type": "code",
      "execution_count": null,
      "metadata": {
        "id": "EuNefFSITPwL"
      },
      "outputs": [],
      "source": [
        ""
      ]
    }
  ],
  "metadata": {
    "kernelspec": {
      "display_name": "Python 3",
      "language": "python",
      "name": "python3"
    },
    "language_info": {
      "codemirror_mode": {
        "name": "ipython",
        "version": 3
      },
      "file_extension": ".py",
      "mimetype": "text/x-python",
      "name": "python",
      "nbconvert_exporter": "python",
      "pygments_lexer": "ipython3",
      "version": "3.7.3"
    },
    "colab": {
      "name": "01_Student_Notebook.ipynb",
      "provenance": [],
      "include_colab_link": true
    }
  },
  "nbformat": 4,
  "nbformat_minor": 0
}